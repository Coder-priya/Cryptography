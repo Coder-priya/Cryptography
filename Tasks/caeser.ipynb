{
 "cells": [
  {
   "cell_type": "markdown",
   "metadata": {},
   "source": [
    "Task 01: Create a Python program that can encrypt and decrypt text using the Caesar Cipher algorithm. Allow users to input a message and a shift value to perform encryption and decryption."
   ]
  },
  {
   "cell_type": "code",
   "execution_count": 1,
   "metadata": {},
   "outputs": [
    {
     "name": "stdout",
     "output_type": "stream",
     "text": [
      "E( apple , 3 ) =  dssoh\n",
      "D( apple , 3 ) =  apple\n"
     ]
    }
   ],
   "source": [
    "def caesar_encryption(text, key):\n",
    "  encrypt_text = \"\"\n",
    "  Utext = text.upper()\n",
    "  for c in Utext:\n",
    "    x = CHARACTER_LIST.index(c) + key\n",
    "    encrypt_text = encrypt_text + CHARACTER_LIST[x%26]\n",
    "  if text != Utext:\n",
    "    encrypt_text = encrypt_text.lower()\n",
    "  return encrypt_text\n",
    "\n",
    "def caesar_decryption(encrypted_text, key):\n",
    "  decrypt_text = \"\"\n",
    "  Utext = encrypted_text.upper()\n",
    "  for c in Utext:\n",
    "    x = CHARACTER_LIST.index(c) - key\n",
    "    decrypt_text = decrypt_text + CHARACTER_LIST[x%26]\n",
    "  if encrypted_text != Utext:\n",
    "    decrypt_text = decrypt_text.lower()\n",
    "  return decrypt_text\n",
    "\n",
    "text = input(\"Message: \")\n",
    "key = int(input(\"Shift Value: \"))\n",
    "\n",
    "CHARACTER_LIST = []\n",
    "alpha = 'A'\n",
    "for i in range(0, 26):\n",
    "    CHARACTER_LIST.append(alpha)\n",
    "    alpha = chr(ord(alpha) + 1)\n",
    "\n",
    "encrypted_text = caesar_encryption(text, key)\n",
    "print(\"E(\", text,\",\", key, \") = \", encrypted_text)\n",
    "print(\"D(\", text,\",\", key, \") = \", caesar_decryption(encrypted_text, key))"
   ]
  }
 ],
 "metadata": {
  "kernelspec": {
   "display_name": "Python 3",
   "language": "python",
   "name": "python3"
  },
  "language_info": {
   "codemirror_mode": {
    "name": "ipython",
    "version": 3
   },
   "file_extension": ".py",
   "mimetype": "text/x-python",
   "name": "python",
   "nbconvert_exporter": "python",
   "pygments_lexer": "ipython3",
   "version": "3.12.1"
  }
 },
 "nbformat": 4,
 "nbformat_minor": 2
}

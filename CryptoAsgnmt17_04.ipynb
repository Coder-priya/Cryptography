{
  "cells": [
    {
      "cell_type": "markdown",
      "metadata": {
        "id": "Q1R_9INciMkE"
      },
      "source": [
        "Write a Python program to implement the encryption and decryption algorithms of the following:\n",
        "\n",
        "1.   Counter Mode\n",
        "\n"
      ]
    },
    {
      "cell_type": "code",
      "execution_count": 7,
      "metadata": {
        "colab": {
          "base_uri": "https://localhost:8080/"
        },
        "id": "o5uxnQo1iL02",
        "outputId": "9e98d01a-0faa-4f10-991f-d606633b5fa8"
      },
      "outputs": [
        {
          "name": "stdout",
          "output_type": "stream",
          "text": [
            "Ciphertext: 148a16b5832d4ea418b9e113\n",
            "Decrypted text: 100110101001\n"
          ]
        }
      ],
      "source": [
        "from Crypto.Cipher import AES\n",
        "from Crypto.Util import Counter\n",
        "import binascii\n",
        "\n",
        "def encrypt_ctr(key, plaintext):\n",
        "    ctr = Counter.new(128)\n",
        "    cipher = AES.new(key, AES.MODE_CTR, counter=ctr)\n",
        "    ciphertext = cipher.encrypt(plaintext)\n",
        "    return binascii.hexlify(ciphertext).decode('utf-8')\n",
        "\n",
        "def decrypt_ctr(key, ciphertext):\n",
        "    ctr = Counter.new(128)\n",
        "    cipher = AES.new(key, AES.MODE_CTR, counter=ctr)\n",
        "    plaintext = cipher.decrypt(binascii.unhexlify(ciphertext))\n",
        "    return plaintext.decode('utf-8')\n",
        "\n",
        "key = b'16-bit key value'\n",
        "plaintext = b'100110101001'\n",
        "\n",
        "ciphertext = encrypt_ctr(key, plaintext)\n",
        "print(f'Ciphertext: {ciphertext}')\n",
        "\n",
        "decrypted = decrypt_ctr(key, ciphertext)\n",
        "print(f'Decrypted text: {decrypted}')"
      ]
    },
    {
      "cell_type": "markdown",
      "metadata": {
        "id": "sTpUfA-4igVf"
      },
      "source": [
        "\n",
        "\n",
        "2.   Cipher Feedback Mode\n",
        "\n"
      ]
    },
    {
      "cell_type": "code",
      "execution_count": 6,
      "metadata": {
        "colab": {
          "base_uri": "https://localhost:8080/"
        },
        "id": "nLKORcQBinyu",
        "outputId": "9e4d0bf7-d01a-4702-9fc7-eb7feac1b58c"
      },
      "outputs": [
        {
          "name": "stdout",
          "output_type": "stream",
          "text": [
            "Cipher text: b'\\xfa\\xe5k=\\xff\\x90\\x80\\t\\xa4\\xcd%\\xac\\x0c~+\\xf0\\xcb\\x90\\xad2\\xf5\\xb0\\xfd\\x12\\x86\\xea \\xb6\\xd1u\\xf5]'\n",
            "Decrypted text: b'101101110110'\n"
          ]
        }
      ],
      "source": [
        "from Crypto.Cipher import AES\n",
        "from Crypto.Util.Padding import pad, unpad\n",
        "from Crypto.Random import get_random_bytes\n",
        "\n",
        "def encrypt_cfb(plain_text, key):\n",
        "    iv = get_random_bytes(AES.block_size)\n",
        "    cipher = AES.new(key, AES.MODE_CFB, iv=iv)\n",
        "    cipher_text = cipher.encrypt(pad(plain_text, AES.block_size))\n",
        "    return iv + cipher_text\n",
        "\n",
        "def decrypt_cfb(cipher_text, key):\n",
        "    iv = cipher_text[:AES.block_size]\n",
        "    cipher_text = cipher_text[AES.block_size:]\n",
        "    cipher = AES.new(key, AES.MODE_CFB, iv=iv)\n",
        "    plain_text = unpad(cipher.decrypt(cipher_text), AES.block_size)\n",
        "    return plain_text\n",
        "\n",
        "key = get_random_bytes(AES.block_size)\n",
        "plain_text = b'101101110110'\n",
        "\n",
        "cipher_text = encrypt_cfb(plain_text, key)\n",
        "print('Cipher text:', cipher_text)\n",
        "\n",
        "decrypted_text = decrypt_cfb(cipher_text, key)\n",
        "print('Decrypted text:', decrypted_text)\n"
      ]
    }
  ],
  "metadata": {
    "colab": {
      "provenance": []
    },
    "kernelspec": {
      "display_name": "Python 3",
      "name": "python3"
    },
    "language_info": {
      "codemirror_mode": {
        "name": "ipython",
        "version": 3
      },
      "file_extension": ".py",
      "mimetype": "text/x-python",
      "name": "python",
      "nbconvert_exporter": "python",
      "pygments_lexer": "ipython3",
      "version": "3.12.1"
    }
  },
  "nbformat": 4,
  "nbformat_minor": 0
}
